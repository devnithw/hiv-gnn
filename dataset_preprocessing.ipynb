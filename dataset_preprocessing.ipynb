{
 "cells": [
  {
   "cell_type": "markdown",
   "metadata": {},
   "source": [
    "# Handling class imbalance by oversampling"
   ]
  },
  {
   "cell_type": "code",
   "execution_count": 1,
   "metadata": {},
   "outputs": [],
   "source": [
    "import pandas as pd"
   ]
  },
  {
   "cell_type": "code",
   "execution_count": 2,
   "metadata": {},
   "outputs": [
    {
     "data": {
      "text/html": [
       "<div>\n",
       "<style scoped>\n",
       "    .dataframe tbody tr th:only-of-type {\n",
       "        vertical-align: middle;\n",
       "    }\n",
       "\n",
       "    .dataframe tbody tr th {\n",
       "        vertical-align: top;\n",
       "    }\n",
       "\n",
       "    .dataframe thead th {\n",
       "        text-align: right;\n",
       "    }\n",
       "</style>\n",
       "<table border=\"1\" class=\"dataframe\">\n",
       "  <thead>\n",
       "    <tr style=\"text-align: right;\">\n",
       "      <th></th>\n",
       "      <th>smiles</th>\n",
       "      <th>activity</th>\n",
       "      <th>HIV_active</th>\n",
       "    </tr>\n",
       "  </thead>\n",
       "  <tbody>\n",
       "    <tr>\n",
       "      <th>0</th>\n",
       "      <td>CCC1=[O+][Cu-3]2([O+]=C(CC)C1)[O+]=C(CC)CC(CC)...</td>\n",
       "      <td>CI</td>\n",
       "      <td>0</td>\n",
       "    </tr>\n",
       "    <tr>\n",
       "      <th>1</th>\n",
       "      <td>C(=Cc1ccccc1)C1=[O+][Cu-3]2([O+]=C(C=Cc3ccccc3...</td>\n",
       "      <td>CI</td>\n",
       "      <td>0</td>\n",
       "    </tr>\n",
       "    <tr>\n",
       "      <th>2</th>\n",
       "      <td>CC(=O)N1c2ccccc2Sc2c1ccc1ccccc21</td>\n",
       "      <td>CI</td>\n",
       "      <td>0</td>\n",
       "    </tr>\n",
       "    <tr>\n",
       "      <th>3</th>\n",
       "      <td>Nc1ccc(C=Cc2ccc(N)cc2S(=O)(=O)O)c(S(=O)(=O)O)c1</td>\n",
       "      <td>CI</td>\n",
       "      <td>0</td>\n",
       "    </tr>\n",
       "    <tr>\n",
       "      <th>4</th>\n",
       "      <td>O=S(=O)(O)CCS(=O)(=O)O</td>\n",
       "      <td>CI</td>\n",
       "      <td>0</td>\n",
       "    </tr>\n",
       "  </tbody>\n",
       "</table>\n",
       "</div>"
      ],
      "text/plain": [
       "                                              smiles activity  HIV_active\n",
       "0  CCC1=[O+][Cu-3]2([O+]=C(CC)C1)[O+]=C(CC)CC(CC)...       CI           0\n",
       "1  C(=Cc1ccccc1)C1=[O+][Cu-3]2([O+]=C(C=Cc3ccccc3...       CI           0\n",
       "2                   CC(=O)N1c2ccccc2Sc2c1ccc1ccccc21       CI           0\n",
       "3    Nc1ccc(C=Cc2ccc(N)cc2S(=O)(=O)O)c(S(=O)(=O)O)c1       CI           0\n",
       "4                             O=S(=O)(O)CCS(=O)(=O)O       CI           0"
      ]
     },
     "execution_count": 2,
     "metadata": {},
     "output_type": "execute_result"
    }
   ],
   "source": [
    "df = pd.read_csv('HIV.csv')\n",
    "df.head()\n"
   ]
  },
  {
   "cell_type": "code",
   "execution_count": 3,
   "metadata": {},
   "outputs": [
    {
     "data": {
      "text/plain": [
       "0    39684\n",
       "1     1443\n",
       "Name: HIV_active, dtype: int64"
      ]
     },
     "execution_count": 3,
     "metadata": {},
     "output_type": "execute_result"
    }
   ],
   "source": [
    "df['HIV_active'].value_counts()"
   ]
  },
  {
   "cell_type": "markdown",
   "metadata": {},
   "source": [
    "We have 40,000 examples for negative class and 1500 examples for positive class.\n",
    "\n",
    "## Oversampling the minority class"
   ]
  },
  {
   "cell_type": "code",
   "execution_count": 4,
   "metadata": {},
   "outputs": [],
   "source": [
    "from sklearn.utils import resample"
   ]
  },
  {
   "cell_type": "code",
   "execution_count": 22,
   "metadata": {},
   "outputs": [],
   "source": [
    "# Separate majority and minority classes\n",
    "df_majority = df[df.HIV_active == 0]\n",
    "df_minority = df[df.HIV_active == 1]"
   ]
  },
  {
   "cell_type": "code",
   "execution_count": 23,
   "metadata": {},
   "outputs": [],
   "source": [
    "neg_class = df[\"HIV_active\"].value_counts()[0]\n",
    "pos_class = df[\"HIV_active\"].value_counts()[1]\n",
    "\n",
    "# Oversampling multiplier\n",
    "multiplier = int(neg_class/pos_class) - 1\n",
    "\n",
    "# Manual override multiplier\n",
    "multiplier = 7\n",
    "\n",
    "# Samples needed for minority class\n",
    "n_min_samples = multiplier * len(df_minority)"
   ]
  },
  {
   "cell_type": "code",
   "execution_count": 24,
   "metadata": {},
   "outputs": [],
   "source": [
    "# Upsample minority class\n",
    "df_minority_oversampled = resample(df_minority,\n",
    "                                 replace=True,    # sample with replacement\n",
    "                                 n_samples=n_min_samples,  # Increase the minority class size by 5\n",
    "                                 random_state=42)  # reproducible results"
   ]
  },
  {
   "cell_type": "code",
   "execution_count": 25,
   "metadata": {},
   "outputs": [
    {
     "data": {
      "text/plain": [
       "0    39684\n",
       "1    10101\n",
       "Name: HIV_active, dtype: int64"
      ]
     },
     "execution_count": 25,
     "metadata": {},
     "output_type": "execute_result"
    }
   ],
   "source": [
    "# Combine majority class with upsampled minority class\n",
    "df_oversampled = pd.concat([df_majority, df_minority_oversampled])\n",
    "df_oversampled.HIV_active.value_counts()"
   ]
  },
  {
   "cell_type": "markdown",
   "metadata": {},
   "source": [
    "Now we have 40,000 examples from negative class and 10000 samples from positive class."
   ]
  },
  {
   "cell_type": "code",
   "execution_count": 30,
   "metadata": {},
   "outputs": [],
   "source": [
    "# Shuffle dataset before saving\n",
    "final_df = df_oversampled.sample(frac=1, random_state=42)"
   ]
  },
  {
   "cell_type": "code",
   "execution_count": 31,
   "metadata": {},
   "outputs": [],
   "source": [
    "# Save the oversampled dataframe\n",
    "final_df.to_csv('oversampled_dataset.csv', index=False)"
   ]
  },
  {
   "cell_type": "markdown",
   "metadata": {},
   "source": [
    "## Making train and test datasets"
   ]
  },
  {
   "cell_type": "code",
   "execution_count": 32,
   "metadata": {},
   "outputs": [],
   "source": [
    "from sklearn.model_selection import train_test_split"
   ]
  },
  {
   "cell_type": "code",
   "execution_count": 33,
   "metadata": {},
   "outputs": [],
   "source": [
    "train_df, test_df = train_test_split(final_df, test_size=0.2)"
   ]
  },
  {
   "cell_type": "code",
   "execution_count": 34,
   "metadata": {},
   "outputs": [
    {
     "name": "stdout",
     "output_type": "stream",
     "text": [
      "Training Set:\n",
      "                                                  smiles activity  HIV_active\n",
      "12455                 CC(=O)OC1CCn2nnc(COC(=O)NC(C)C)c21       CI           0\n",
      "14703         Cc1ccc2[nH]c(Sc3c([N+](=O)[O-])ncn3C)nc2c1       CI           0\n",
      "9643                         Cn1c(=O)c2ncc(N)nc2n(C)c1=O       CI           0\n",
      "8693              CCN(CC)C1=Nc2ccccc2N(c2ccccc2)C(SC)=C1       CI           0\n",
      "4600               CC1CCCc2c(CC3CC(=O)NC(=O)C3)nc(N)nc21       CI           0\n",
      "...                                                  ...      ...         ...\n",
      "9522         NS(=O)(=O)c1ccc(N=NC2Sc3nc4ccccc4n3C2=O)cc1       CI           0\n",
      "25336       CCN(CC)CCN1CCN=c2c3cc(OC)ccc3n3cnc4ccc1c2c43       CI           0\n",
      "15701  O=S(=O)(O)c1ccc2c(c1)NN(c1ccc(C=Cc3ccc(N=Nc4cc...       CA           1\n",
      "24245                   COC(=NN=Cc1cc(OC)ccc1OC)c1ccncc1       CI           0\n",
      "13168  CC1=CC2c3c([nH]c4ccccc34)C(c3c[nH]c4ccccc34)C2CC1       CI           0\n",
      "\n",
      "[39828 rows x 3 columns]\n",
      "\n",
      "Test Set:\n",
      "                                                  smiles activity  HIV_active\n",
      "11793  COc1ccc(C(=O)C(C(=O)CCC(=O)Nc2cccc(Cl)c2)c2ccc...       CI           0\n",
      "2423   O=C(Nc1ccc(CCC2=NCCCN2)cc1)c1ccc(C(=O)Nc2ccc(C...       CM           1\n",
      "35633      CCN(CC)c1ccc2cc(-c3nc(O)c4ccccc4n3)c(=N)oc2c1       CI           0\n",
      "3147                   CCC1(CCO)C(=O)N=C(Nc2ccccc2)NC1=O       CI           0\n",
      "18458                NCCn1cnc2nc(NC(=O)c3ccccc3)nc(O)c21       CI           0\n",
      "...                                                  ...      ...         ...\n",
      "20717                             O=C1CC2C(C=CC23CC3)N1O       CI           0\n",
      "32994                    CCn1c(=O)c(N=O)c(N)n(CCCOC)c1=O       CI           0\n",
      "15670  [N-]=[N+]=Nc1ccc(S(=O)(=O)Oc2cc(OS(=O)(=O)c3cc...       CI           0\n",
      "10697        C[N+](C)(C)CCNP(=O)(Oc1ccccc1)c1ccccc1.[I-]       CI           0\n",
      "5244         O=C(O)c1c2c(nc3ccccc13)-c1ccccc1C1(CCCC1)C2       CI           0\n",
      "\n",
      "[9957 rows x 3 columns]\n"
     ]
    }
   ],
   "source": [
    "# Display the resulting DataFrames\n",
    "print(\"Training Set:\")\n",
    "print(train_df)\n",
    "print(\"\\nTest Set:\")\n",
    "print(test_df)"
   ]
  },
  {
   "cell_type": "code",
   "execution_count": 35,
   "metadata": {},
   "outputs": [
    {
     "name": "stdout",
     "output_type": "stream",
     "text": [
      "Negative examples in train data:  31797\n",
      "Posiitve examples in train data:  8031\n",
      "Negative examples in test data:  7887\n",
      "Posiitve examples in test data:  2070\n"
     ]
    }
   ],
   "source": [
    "print(\"Negative examples in train data: \", train_df[\"HIV_active\"].value_counts()[0])\n",
    "print(\"Posiitve examples in train data: \", train_df[\"HIV_active\"].value_counts()[1])\n",
    "\n",
    "print(\"Negative examples in test data: \", test_df[\"HIV_active\"].value_counts()[0])\n",
    "print(\"Posiitve examples in test data: \", test_df[\"HIV_active\"].value_counts()[1])"
   ]
  },
  {
   "cell_type": "code",
   "execution_count": null,
   "metadata": {},
   "outputs": [],
   "source": []
  }
 ],
 "metadata": {
  "kernelspec": {
   "display_name": "pytorch",
   "language": "python",
   "name": "python3"
  },
  "language_info": {
   "codemirror_mode": {
    "name": "ipython",
    "version": 3
   },
   "file_extension": ".py",
   "mimetype": "text/x-python",
   "name": "python",
   "nbconvert_exporter": "python",
   "pygments_lexer": "ipython3",
   "version": "3.8.15"
  }
 },
 "nbformat": 4,
 "nbformat_minor": 2
}
