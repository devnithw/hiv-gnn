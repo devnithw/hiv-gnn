{
 "cells": [
  {
   "cell_type": "markdown",
   "metadata": {},
   "source": [
    "# Handling class imbalance by oversampling"
   ]
  },
  {
   "cell_type": "code",
   "execution_count": 17,
   "metadata": {},
   "outputs": [],
   "source": [
    "import pandas as pd"
   ]
  },
  {
   "cell_type": "code",
   "execution_count": 18,
   "metadata": {},
   "outputs": [
    {
     "data": {
      "text/html": [
       "<div>\n",
       "<style scoped>\n",
       "    .dataframe tbody tr th:only-of-type {\n",
       "        vertical-align: middle;\n",
       "    }\n",
       "\n",
       "    .dataframe tbody tr th {\n",
       "        vertical-align: top;\n",
       "    }\n",
       "\n",
       "    .dataframe thead th {\n",
       "        text-align: right;\n",
       "    }\n",
       "</style>\n",
       "<table border=\"1\" class=\"dataframe\">\n",
       "  <thead>\n",
       "    <tr style=\"text-align: right;\">\n",
       "      <th></th>\n",
       "      <th>smiles</th>\n",
       "      <th>activity</th>\n",
       "      <th>HIV_active</th>\n",
       "    </tr>\n",
       "  </thead>\n",
       "  <tbody>\n",
       "    <tr>\n",
       "      <th>0</th>\n",
       "      <td>CCC1=[O+][Cu-3]2([O+]=C(CC)C1)[O+]=C(CC)CC(CC)...</td>\n",
       "      <td>CI</td>\n",
       "      <td>0</td>\n",
       "    </tr>\n",
       "    <tr>\n",
       "      <th>1</th>\n",
       "      <td>C(=Cc1ccccc1)C1=[O+][Cu-3]2([O+]=C(C=Cc3ccccc3...</td>\n",
       "      <td>CI</td>\n",
       "      <td>0</td>\n",
       "    </tr>\n",
       "    <tr>\n",
       "      <th>2</th>\n",
       "      <td>CC(=O)N1c2ccccc2Sc2c1ccc1ccccc21</td>\n",
       "      <td>CI</td>\n",
       "      <td>0</td>\n",
       "    </tr>\n",
       "    <tr>\n",
       "      <th>3</th>\n",
       "      <td>Nc1ccc(C=Cc2ccc(N)cc2S(=O)(=O)O)c(S(=O)(=O)O)c1</td>\n",
       "      <td>CI</td>\n",
       "      <td>0</td>\n",
       "    </tr>\n",
       "    <tr>\n",
       "      <th>4</th>\n",
       "      <td>O=S(=O)(O)CCS(=O)(=O)O</td>\n",
       "      <td>CI</td>\n",
       "      <td>0</td>\n",
       "    </tr>\n",
       "  </tbody>\n",
       "</table>\n",
       "</div>"
      ],
      "text/plain": [
       "                                              smiles activity  HIV_active\n",
       "0  CCC1=[O+][Cu-3]2([O+]=C(CC)C1)[O+]=C(CC)CC(CC)...       CI           0\n",
       "1  C(=Cc1ccccc1)C1=[O+][Cu-3]2([O+]=C(C=Cc3ccccc3...       CI           0\n",
       "2                   CC(=O)N1c2ccccc2Sc2c1ccc1ccccc21       CI           0\n",
       "3    Nc1ccc(C=Cc2ccc(N)cc2S(=O)(=O)O)c(S(=O)(=O)O)c1       CI           0\n",
       "4                             O=S(=O)(O)CCS(=O)(=O)O       CI           0"
      ]
     },
     "execution_count": 18,
     "metadata": {},
     "output_type": "execute_result"
    }
   ],
   "source": [
    "df = pd.read_csv('HIV.csv')\n",
    "df.head()\n"
   ]
  },
  {
   "cell_type": "code",
   "execution_count": 19,
   "metadata": {},
   "outputs": [
    {
     "data": {
      "text/plain": [
       "0    39684\n",
       "1     1443\n",
       "Name: HIV_active, dtype: int64"
      ]
     },
     "execution_count": 19,
     "metadata": {},
     "output_type": "execute_result"
    }
   ],
   "source": [
    "df['HIV_active'].value_counts()"
   ]
  },
  {
   "cell_type": "markdown",
   "metadata": {},
   "source": [
    "We have 40,000 examples for negative class and 1500 examples for positive class.\n",
    "\n",
    "## Oversampling the minority class"
   ]
  },
  {
   "cell_type": "code",
   "execution_count": 20,
   "metadata": {},
   "outputs": [],
   "source": [
    "from sklearn.utils import resample"
   ]
  },
  {
   "cell_type": "code",
   "execution_count": 21,
   "metadata": {},
   "outputs": [],
   "source": [
    "# Separate majority and minority classes\n",
    "df_majority = df[df.HIV_active == 0]\n",
    "df_minority = df[df.HIV_active == 1]"
   ]
  },
  {
   "cell_type": "code",
   "execution_count": 22,
   "metadata": {},
   "outputs": [],
   "source": [
    "neg_class = df[\"HIV_active\"].value_counts()[0]\n",
    "pos_class = df[\"HIV_active\"].value_counts()[1]\n",
    "\n",
    "# Oversampling multiplier\n",
    "multiplier = int(neg_class/pos_class) - 1\n",
    "\n",
    "# Manual override multiplier\n",
    "multiplier = 7\n",
    "\n",
    "# Samples needed for minority class\n",
    "n_min_samples = multiplier * len(df_minority)"
   ]
  },
  {
   "cell_type": "code",
   "execution_count": 23,
   "metadata": {},
   "outputs": [],
   "source": [
    "# Upsample minority class\n",
    "df_minority_oversampled = resample(df_minority,\n",
    "                                 replace=True,    # sample with replacement\n",
    "                                 n_samples=n_min_samples,  # Increase the minority class size by 5\n",
    "                                 random_state=42)  # reproducible results"
   ]
  },
  {
   "cell_type": "code",
   "execution_count": 24,
   "metadata": {},
   "outputs": [
    {
     "data": {
      "text/plain": [
       "0    39684\n",
       "1    10101\n",
       "Name: HIV_active, dtype: int64"
      ]
     },
     "execution_count": 24,
     "metadata": {},
     "output_type": "execute_result"
    }
   ],
   "source": [
    "# Combine majority class with upsampled minority class\n",
    "df_oversampled = pd.concat([df_majority, df_minority_oversampled])\n",
    "df_oversampled.HIV_active.value_counts()"
   ]
  },
  {
   "cell_type": "markdown",
   "metadata": {},
   "source": [
    "Now we have 40,000 examples from negative class and 10000 samples from positive class."
   ]
  },
  {
   "cell_type": "code",
   "execution_count": 25,
   "metadata": {},
   "outputs": [
    {
     "data": {
      "text/plain": [
       "49785"
      ]
     },
     "execution_count": 25,
     "metadata": {},
     "output_type": "execute_result"
    }
   ],
   "source": [
    "# Shuffle dataset before saving\n",
    "final_df = df_oversampled.sample(frac=1, random_state=42)\n",
    "len(final_df)"
   ]
  },
  {
   "cell_type": "markdown",
   "metadata": {},
   "source": [
    "## Making train and test datasets"
   ]
  },
  {
   "cell_type": "code",
   "execution_count": 26,
   "metadata": {},
   "outputs": [],
   "source": [
    "from sklearn.model_selection import train_test_split"
   ]
  },
  {
   "cell_type": "code",
   "execution_count": 27,
   "metadata": {},
   "outputs": [],
   "source": [
    "train_df, test_df = train_test_split(final_df, test_size=0.2)"
   ]
  },
  {
   "cell_type": "code",
   "execution_count": 28,
   "metadata": {},
   "outputs": [
    {
     "name": "stdout",
     "output_type": "stream",
     "text": [
      "Training Set:\n",
      "                                                  smiles activity  HIV_active\n",
      "14904         Cc1ccc(C2=Nc3ccccc3SC(c3cccc4c3OCO4)C2)cc1       CI           0\n",
      "26087  CCOC(=O)C1=NN(c2ccccc2)C(=O)C1=CNC(=S)NN=C1C(=...       CI           0\n",
      "18424              Cc1cn(C2CC(OC=O)C(CO)O2)c(=O)[nH]c1=O       CM           1\n",
      "685                    [N-]=[N+]=C(S(=O)(=O)O)S(=O)(=O)O       CI           0\n",
      "14843  N.N[Co-4](N)([OH+][N+](=O)[O-])([OH+][N+](=O)[...       CI           0\n",
      "...                                                  ...      ...         ...\n",
      "37809  CCN1CCC(O)(C=Cc2ccc(C(C)C)cc2)C(C(=O)C=Cc2ccc(...       CI           0\n",
      "2182   CCN(CC)CCn1c(C)nc2c1C(=O)c1nc(C)n(CCN(CC)CC)c1...       CI           0\n",
      "16193             O=[N+]([O-])c1ccccc1C1SCc2nc3ccccc3n21       CM           1\n",
      "17030                     COc1ccc(NC(=O)C(=NO)C(C)=O)cc1       CI           0\n",
      "30380  CCOC(=O)CC(=O)CSc1c(-c2ccccc2)c(=O)n(-c2ccccc2...       CI           0\n",
      "\n",
      "[39828 rows x 3 columns]\n",
      "\n",
      "Test Set:\n",
      "                                                  smiles activity  HIV_active\n",
      "17039                     Cc1cc(O)nc(CNC(=O)Cc2ccccc2)n1       CI           0\n",
      "2477           N=C(NN=Cc1cccc2ccccc12)NN=Cc1cccc2ccccc12       CI           0\n",
      "13771                 CCCC[Sn]1(CCCC)OC(=O)c2ccc(N)cc2O1       CI           0\n",
      "23996           CCNC1=Nc2ccccc2-n2c(nn3nc4ccccc4c23)N1CC       CM           1\n",
      "21024                 OCCCOC(c1ccccc1)(c1ccccc1)c1ccccc1       CI           0\n",
      "...                                                  ...      ...         ...\n",
      "10795                           C[Si](C)(C)OC1CCCC1NCC#N       CI           0\n",
      "9950                                 CC(CO)N(O)N=O.[NaH]       CI           0\n",
      "39909                             C1=CSSC=CSSC=CSSC=CSS1       CM           1\n",
      "24201  COc1cc(COC(=O)NC(C(=O)O)C(C)(C)C)c([N+](=O)[O-...       CI           0\n",
      "7732   S=C(Nc1ccc(Cl)c(Cl)c1)N1c2ccccc2-n2cccc2C1c1cc...       CI           0\n",
      "\n",
      "[9957 rows x 3 columns]\n"
     ]
    }
   ],
   "source": [
    "# Display the resulting DataFrames\n",
    "print(\"Training Set:\")\n",
    "print(train_df)\n",
    "print(\"\\nTest Set:\")\n",
    "print(test_df)"
   ]
  },
  {
   "cell_type": "code",
   "execution_count": 29,
   "metadata": {},
   "outputs": [
    {
     "name": "stdout",
     "output_type": "stream",
     "text": [
      "Negative examples in train data:  31756\n",
      "Posiitve examples in train data:  8072\n",
      "Negative examples in test data:  7928\n",
      "Posiitve examples in test data:  2029\n"
     ]
    }
   ],
   "source": [
    "print(\"Negative examples in train data: \", train_df[\"HIV_active\"].value_counts()[0])\n",
    "print(\"Posiitve examples in train data: \", train_df[\"HIV_active\"].value_counts()[1])\n",
    "\n",
    "print(\"Negative examples in test data: \", test_df[\"HIV_active\"].value_counts()[0])\n",
    "print(\"Posiitve examples in test data: \", test_df[\"HIV_active\"].value_counts()[1])"
   ]
  },
  {
   "cell_type": "code",
   "execution_count": 30,
   "metadata": {},
   "outputs": [],
   "source": [
    "import os\n",
    "\n",
    "# Create directories\n",
    "os.makedirs('data/train/raw', exist_ok=True)\n",
    "os.makedirs('data/train/processed', exist_ok=True)\n",
    "os.makedirs('data/test/raw', exist_ok=True)\n",
    "os.makedirs('data/test/processed', exist_ok=True)"
   ]
  },
  {
   "cell_type": "code",
   "execution_count": 31,
   "metadata": {},
   "outputs": [],
   "source": [
    "# Save the datasets to CSV files\n",
    "train_df.to_csv('data/train/raw/train.csv', index=False)\n",
    "test_df.to_csv('data/test/raw/test.csv', index=False)"
   ]
  }
 ],
 "metadata": {
  "kernelspec": {
   "display_name": "pytorch",
   "language": "python",
   "name": "python3"
  },
  "language_info": {
   "codemirror_mode": {
    "name": "ipython",
    "version": 3
   },
   "file_extension": ".py",
   "mimetype": "text/x-python",
   "name": "python",
   "nbconvert_exporter": "python",
   "pygments_lexer": "ipython3",
   "version": "3.8.15"
  }
 },
 "nbformat": 4,
 "nbformat_minor": 2
}
